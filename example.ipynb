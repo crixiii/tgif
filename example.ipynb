{
 "cells": [
  {
   "cell_type": "code",
   "execution_count": null,
   "id": "92626b53",
   "metadata": {},
   "outputs": [],
   "source": [
    "from tgif import *\n",
    "from tgif import tgif as tg\n",
    "\n",
    "import tessreduce as tr"
   ]
  },
  {
   "cell_type": "code",
   "execution_count": null,
   "metadata": {},
   "outputs": [],
   "source": [
    "nice_plots()"
   ]
  },
  {
   "cell_type": "code",
   "execution_count": null,
   "id": "d8c70766",
   "metadata": {},
   "outputs": [],
   "source": [
    "ra = 246.55\n",
    "dec = 61.042\n",
    "sec = 51"
   ]
  },
  {
   "cell_type": "code",
   "execution_count": null,
   "id": "890f6d99",
   "metadata": {},
   "outputs": [],
   "source": [
    "# tr.spacetime_lookup(ra=ra,dec=dec, time=59713.975243)"
   ]
  },
  {
   "cell_type": "code",
   "execution_count": null,
   "id": "c7cbbdec",
   "metadata": {},
   "outputs": [],
   "source": [
    "# data = tr.tessreduce(ra= ra ,dec = dec, sector=sec, calibrate=False, corr_correction=False, reduce=True)"
   ]
  },
  {
   "cell_type": "code",
   "execution_count": null,
   "id": "183528f6",
   "metadata": {},
   "outputs": [],
   "source": [
    "flux = np.load('example_flux.npy')"
   ]
  },
  {
   "cell_type": "code",
   "execution_count": null,
   "id": "26901570",
   "metadata": {},
   "outputs": [],
   "source": [
    "# \n",
    "# maxind = np.where((np.nanmax(data.lc[1]) == data.lc[1]))[0] ##???? lol the brightest frame ---"
   ]
  },
  {
   "cell_type": "code",
   "execution_count": null,
   "id": "bc5fb5c2",
   "metadata": {},
   "outputs": [],
   "source": [
    "# event = data.lc[0][maxind]"
   ]
  },
  {
   "cell_type": "code",
   "execution_count": null,
   "id": "c0fbae8d",
   "metadata": {},
   "outputs": [],
   "source": [
    "# plt.plot\n",
    "# plt.imshow(data.flux[maxind-1][0], vmax=5, vmin=0)\n"
   ]
  },
  {
   "cell_type": "code",
   "execution_count": null,
   "id": "0731cbbb",
   "metadata": {},
   "outputs": [],
   "source": [
    "# 59120.47871308852"
   ]
  },
  {
   "cell_type": "code",
   "execution_count": null,
   "id": "a72f380f",
   "metadata": {},
   "outputs": [],
   "source": [
    "# np.save('example_flux.npy', data.flux)"
   ]
  },
  {
   "cell_type": "code",
   "execution_count": null,
   "id": "21a53ac4",
   "metadata": {},
   "outputs": [
    {
     "name": "stdout",
     "output_type": "stream",
     "text": [
      "-- no tessreduce object given! --\n"
     ]
    }
   ],
   "source": [
    "tgobj = tgif(flux=flux, filename='GRB220514B')"
   ]
  },
  {
   "cell_type": "code",
   "execution_count": null,
   "id": "40f67af1",
   "metadata": {},
   "outputs": [],
   "source": [
    "# tgobj.detected_inds[0]"
   ]
  },
  {
   "cell_type": "code",
   "execution_count": null,
   "id": "b67ade31",
   "metadata": {},
   "outputs": [
    {
     "ename": "AttributeError",
     "evalue": "'tgif' object has no attribute 'detected_inds'",
     "output_type": "error",
     "traceback": [
      "\u001b[1;31m---------------------------------------------------------------------------\u001b[0m",
      "\u001b[1;31mAttributeError\u001b[0m                            Traceback (most recent call last)",
      "Cell \u001b[1;32mIn[15], line 1\u001b[0m\n\u001b[1;32m----> 1\u001b[0m tgobj\u001b[38;5;241m.\u001b[39mdetected_inds\n",
      "\u001b[1;31mAttributeError\u001b[0m: 'tgif' object has no attribute 'detected_inds'"
     ]
    }
   ],
   "source": [
    "# tgobj.detected_inds"
   ]
  },
  {
   "cell_type": "code",
   "execution_count": null,
   "id": "6c96b650",
   "metadata": {},
   "outputs": [
    {
     "data": {
      "text/plain": [
       "array([2150, 2151, 2152, 2153, 2154, 2155, 2156, 2157, 2158, 2159, 2160,\n",
       "       2161, 2162, 2163, 2164, 2165, 2166, 2167, 2168, 2169, 2170, 2171,\n",
       "       2172, 2173, 2174, 2175, 2176, 2177, 2178, 2179, 2180, 2181, 2182,\n",
       "       2183, 2184, 2185, 2186, 2187, 2188, 2189, 2190, 2191, 2192, 2193,\n",
       "       2194, 2195, 2196, 2197, 2198, 2199])"
      ]
     },
     "execution_count": 23,
     "metadata": {},
     "output_type": "execute_result"
    }
   ],
   "source": [
    "np.arange(2150, 2200, 1)"
   ]
  },
  {
   "cell_type": "code",
   "execution_count": null,
   "id": "92d0d595",
   "metadata": {},
   "outputs": [
    {
     "data": {
      "image/png": "[encoded data removed]",
      "text/plain": [
       "<Figure size 400x400 with 1 Axes>"
      ]
     },
     "metadata": {},
     "output_type": "display_data"
    },
    {
     "name": "stderr",
     "output_type": "stream",
     "text": [
      "MovieWriter ffmpeg unavailable; using Pillow instead.\n"
     ]
    },
    {
     "ename": "ValueError",
     "evalue": "unknown file extension: .mp4",
     "output_type": "error",
     "traceback": [
      "\u001b[1;31m---------------------------------------------------------------------------\u001b[0m",
      "\u001b[1;31mKeyError\u001b[0m                                  Traceback (most recent call last)",
      "File \u001b[1;32mc:\\Users\\clari\\anaconda3\\Lib\\site-packages\\PIL\\Image.py:2571\u001b[0m, in \u001b[0;36mImage.save\u001b[1;34m(self, fp, format, **params)\u001b[0m\n\u001b[0;32m   2570\u001b[0m \u001b[38;5;28;01mtry\u001b[39;00m:\n\u001b[1;32m-> 2571\u001b[0m     \u001b[38;5;28mformat\u001b[39m \u001b[38;5;241m=\u001b[39m EXTENSION[ext]\n\u001b[0;32m   2572\u001b[0m \u001b[38;5;28;01mexcept\u001b[39;00m \u001b[38;5;167;01mKeyError\u001b[39;00m \u001b[38;5;28;01mas\u001b[39;00m e:\n",
      "\u001b[1;31mKeyError\u001b[0m: '.mp4'",
      "\nThe above exception was the direct cause of the following exception:\n",
      "\u001b[1;31mValueError\u001b[0m                                Traceback (most recent call last)",
      "Cell \u001b[1;32mIn[25], line 1\u001b[0m\n\u001b[1;32m----> 1\u001b[0m tgobj\u001b[38;5;241m.\u001b[39mmake_frames(np\u001b[38;5;241m.\u001b[39marange(\u001b[38;5;241m2150\u001b[39m, \u001b[38;5;241m2200\u001b[39m, \u001b[38;5;241m1\u001b[39m), save_mp4\u001b[38;5;241m=\u001b[39m\u001b[38;5;28;01mTrue\u001b[39;00m)\n",
      "File \u001b[1;32mc:\\Users\\clari\\OneDrive\\Desktop\\sourcefinder\\tgif\\tgif.py:121\u001b[0m, in \u001b[0;36mtgif.make_frames\u001b[1;34m(self, frames, vmin, vmax, fig_size, save_gif, save_mp4, dpi, interval, cmap)\u001b[0m\n\u001b[0;32m    118\u001b[0m     plt\u001b[38;5;241m.\u001b[39mclose()\n\u001b[0;32m    120\u001b[0m \u001b[38;5;28;01mif\u001b[39;00m save_mp4:\n\u001b[1;32m--> 121\u001b[0m     ani\u001b[38;5;241m.\u001b[39msave(\u001b[38;5;124mf\u001b[39m\u001b[38;5;124m\"\u001b[39m\u001b[38;5;132;01m{\u001b[39;00m\u001b[38;5;28mself\u001b[39m\u001b[38;5;241m.\u001b[39mfilepath\u001b[38;5;132;01m}\u001b[39;00m\u001b[38;5;124m/\u001b[39m\u001b[38;5;132;01m{\u001b[39;00m\u001b[38;5;28mself\u001b[39m\u001b[38;5;241m.\u001b[39mfilename\u001b[38;5;132;01m}\u001b[39;00m\u001b[38;5;124m.mp4\u001b[39m\u001b[38;5;124m\"\u001b[39m, writer\u001b[38;5;241m=\u001b[39m\u001b[38;5;124m\"\u001b[39m\u001b[38;5;124mffmpeg\u001b[39m\u001b[38;5;124m\"\u001b[39m, dpi\u001b[38;5;241m=\u001b[39mdpi)\n\u001b[0;32m    122\u001b[0m     \u001b[38;5;28mprint\u001b[39m(\u001b[38;5;124mf\u001b[39m\u001b[38;5;124m'\u001b[39m\u001b[38;5;124msaved MP4 to \u001b[39m\u001b[38;5;132;01m{\u001b[39;00m\u001b[38;5;28mself\u001b[39m\u001b[38;5;241m.\u001b[39mfilepath\u001b[38;5;132;01m}\u001b[39;00m\u001b[38;5;124m/\u001b[39m\u001b[38;5;132;01m{\u001b[39;00m\u001b[38;5;28mself\u001b[39m\u001b[38;5;241m.\u001b[39mfilename\u001b[38;5;132;01m}\u001b[39;00m\u001b[38;5;124m.mp4\u001b[39m\u001b[38;5;124m'\u001b[39m)\n\u001b[0;32m    123\u001b[0m     plt\u001b[38;5;241m.\u001b[39mclose()\n",
      "File \u001b[1;32mc:\\Users\\clari\\anaconda3\\Lib\\site-packages\\matplotlib\\animation.py:1098\u001b[0m, in \u001b[0;36mAnimation.save\u001b[1;34m(self, filename, writer, fps, dpi, codec, bitrate, extra_args, metadata, extra_anim, savefig_kwargs, progress_callback)\u001b[0m\n\u001b[0;32m   1093\u001b[0m     \u001b[38;5;28;01mreturn\u001b[39;00m a \u001b[38;5;241m*\u001b[39m np\u001b[38;5;241m.\u001b[39marray([r, g, b]) \u001b[38;5;241m+\u001b[39m \u001b[38;5;241m1\u001b[39m \u001b[38;5;241m-\u001b[39m a\n\u001b[0;32m   1095\u001b[0m \u001b[38;5;66;03m# canvas._is_saving = True makes the draw_event animation-starting\u001b[39;00m\n\u001b[0;32m   1096\u001b[0m \u001b[38;5;66;03m# callback a no-op; canvas.manager = None prevents resizing the GUI\u001b[39;00m\n\u001b[0;32m   1097\u001b[0m \u001b[38;5;66;03m# widget (both are likewise done in savefig()).\u001b[39;00m\n\u001b[1;32m-> 1098\u001b[0m \u001b[38;5;28;01mwith\u001b[39;00m (writer\u001b[38;5;241m.\u001b[39msaving(\u001b[38;5;28mself\u001b[39m\u001b[38;5;241m.\u001b[39m_fig, filename, dpi),\n\u001b[0;32m   1099\u001b[0m       cbook\u001b[38;5;241m.\u001b[39m_setattr_cm(\u001b[38;5;28mself\u001b[39m\u001b[38;5;241m.\u001b[39m_fig\u001b[38;5;241m.\u001b[39mcanvas, _is_saving\u001b[38;5;241m=\u001b[39m\u001b[38;5;28;01mTrue\u001b[39;00m, manager\u001b[38;5;241m=\u001b[39m\u001b[38;5;28;01mNone\u001b[39;00m)):\n\u001b[0;32m   1100\u001b[0m     \u001b[38;5;28;01mif\u001b[39;00m \u001b[38;5;129;01mnot\u001b[39;00m writer\u001b[38;5;241m.\u001b[39m_supports_transparency():\n\u001b[0;32m   1101\u001b[0m         facecolor \u001b[38;5;241m=\u001b[39m savefig_kwargs\u001b[38;5;241m.\u001b[39mget(\u001b[38;5;124m'\u001b[39m\u001b[38;5;124mfacecolor\u001b[39m\u001b[38;5;124m'\u001b[39m,\n\u001b[0;32m   1102\u001b[0m                                        mpl\u001b[38;5;241m.\u001b[39mrcParams[\u001b[38;5;124m'\u001b[39m\u001b[38;5;124msavefig.facecolor\u001b[39m\u001b[38;5;124m'\u001b[39m])\n",
      "File \u001b[1;32mc:\\Users\\clari\\anaconda3\\Lib\\contextlib.py:144\u001b[0m, in \u001b[0;36m_GeneratorContextManager.__exit__\u001b[1;34m(self, typ, value, traceback)\u001b[0m\n\u001b[0;32m    142\u001b[0m \u001b[38;5;28;01mif\u001b[39;00m typ \u001b[38;5;129;01mis\u001b[39;00m \u001b[38;5;28;01mNone\u001b[39;00m:\n\u001b[0;32m    143\u001b[0m     \u001b[38;5;28;01mtry\u001b[39;00m:\n\u001b[1;32m--> 144\u001b[0m         \u001b[38;5;28mnext\u001b[39m(\u001b[38;5;28mself\u001b[39m\u001b[38;5;241m.\u001b[39mgen)\n\u001b[0;32m    145\u001b[0m     \u001b[38;5;28;01mexcept\u001b[39;00m \u001b[38;5;167;01mStopIteration\u001b[39;00m:\n\u001b[0;32m    146\u001b[0m         \u001b[38;5;28;01mreturn\u001b[39;00m \u001b[38;5;28;01mFalse\u001b[39;00m\n",
      "File \u001b[1;32mc:\\Users\\clari\\anaconda3\\Lib\\site-packages\\matplotlib\\animation.py:226\u001b[0m, in \u001b[0;36mAbstractMovieWriter.saving\u001b[1;34m(self, fig, outfile, dpi, *args, **kwargs)\u001b[0m\n\u001b[0;32m    224\u001b[0m     \u001b[38;5;28;01myield\u001b[39;00m \u001b[38;5;28mself\u001b[39m\n\u001b[0;32m    225\u001b[0m \u001b[38;5;28;01mfinally\u001b[39;00m:\n\u001b[1;32m--> 226\u001b[0m     \u001b[38;5;28mself\u001b[39m\u001b[38;5;241m.\u001b[39mfinish()\n",
      "File \u001b[1;32mc:\\Users\\clari\\anaconda3\\Lib\\site-packages\\matplotlib\\animation.py:506\u001b[0m, in \u001b[0;36mPillowWriter.finish\u001b[1;34m(self)\u001b[0m\n\u001b[0;32m    505\u001b[0m \u001b[38;5;28;01mdef\u001b[39;00m \u001b[38;5;21mfinish\u001b[39m(\u001b[38;5;28mself\u001b[39m):\n\u001b[1;32m--> 506\u001b[0m     \u001b[38;5;28mself\u001b[39m\u001b[38;5;241m.\u001b[39m_frames[\u001b[38;5;241m0\u001b[39m]\u001b[38;5;241m.\u001b[39msave(\n\u001b[0;32m    507\u001b[0m         \u001b[38;5;28mself\u001b[39m\u001b[38;5;241m.\u001b[39moutfile, save_all\u001b[38;5;241m=\u001b[39m\u001b[38;5;28;01mTrue\u001b[39;00m, append_images\u001b[38;5;241m=\u001b[39m\u001b[38;5;28mself\u001b[39m\u001b[38;5;241m.\u001b[39m_frames[\u001b[38;5;241m1\u001b[39m:],\n\u001b[0;32m    508\u001b[0m         duration\u001b[38;5;241m=\u001b[39m\u001b[38;5;28mint\u001b[39m(\u001b[38;5;241m1000\u001b[39m \u001b[38;5;241m/\u001b[39m \u001b[38;5;28mself\u001b[39m\u001b[38;5;241m.\u001b[39mfps), loop\u001b[38;5;241m=\u001b[39m\u001b[38;5;241m0\u001b[39m)\n",
      "File \u001b[1;32mc:\\Users\\clari\\anaconda3\\Lib\\site-packages\\PIL\\Image.py:2574\u001b[0m, in \u001b[0;36mImage.save\u001b[1;34m(self, fp, format, **params)\u001b[0m\n\u001b[0;32m   2572\u001b[0m     \u001b[38;5;28;01mexcept\u001b[39;00m \u001b[38;5;167;01mKeyError\u001b[39;00m \u001b[38;5;28;01mas\u001b[39;00m e:\n\u001b[0;32m   2573\u001b[0m         msg \u001b[38;5;241m=\u001b[39m \u001b[38;5;124mf\u001b[39m\u001b[38;5;124m\"\u001b[39m\u001b[38;5;124munknown file extension: \u001b[39m\u001b[38;5;132;01m{\u001b[39;00mext\u001b[38;5;132;01m}\u001b[39;00m\u001b[38;5;124m\"\u001b[39m\n\u001b[1;32m-> 2574\u001b[0m         \u001b[38;5;28;01mraise\u001b[39;00m \u001b[38;5;167;01mValueError\u001b[39;00m(msg) \u001b[38;5;28;01mfrom\u001b[39;00m \u001b[38;5;21;01me\u001b[39;00m\n\u001b[0;32m   2576\u001b[0m \u001b[38;5;28;01mif\u001b[39;00m \u001b[38;5;28mformat\u001b[39m\u001b[38;5;241m.\u001b[39mupper() \u001b[38;5;129;01mnot\u001b[39;00m \u001b[38;5;129;01min\u001b[39;00m SAVE:\n\u001b[0;32m   2577\u001b[0m     init()\n",
      "\u001b[1;31mValueError\u001b[0m: unknown file extension: .mp4"
     ]
    }
   ],
   "source": [
    "tgobj.make_frames(np.arange(2150, 2200, 1), save_mp4=True)"
   ]
  },
  {
   "cell_type": "code",
   "execution_count": null,
   "metadata": {},
   "outputs": [],
   "source": [
    "# tgobj.make_gif(save=True, side_frames=5, vmax=5, cmap='magma', transparent=False)"
   ]
  }
 ],
 "metadata": {
  "kernelspec": {
   "display_name": "base",
   "language": "python",
   "name": "python3"
  },
  "language_info": {
   "codemirror_mode": {
    "name": "ipython",
    "version": 3
   },
   "file_extension": ".py",
   "mimetype": "text/x-python",
   "name": "python",
   "nbconvert_exporter": "python",
   "pygments_lexer": "ipython3",
   "version": "3.12.7"
  }
 },
 "nbformat": 4,
 "nbformat_minor": 5
}
